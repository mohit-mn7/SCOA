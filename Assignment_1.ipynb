{
 "cells": [
  {
   "cell_type": "code",
   "execution_count": 4,
   "metadata": {},
   "outputs": [],
   "source": [
    "B1 = [1.0,0.15,0.3,0.5,0]"
   ]
  },
  {
   "cell_type": "code",
   "execution_count": 5,
   "metadata": {},
   "outputs": [],
   "source": [
    "B2 = [1,0.6,0.2,0.1,0]"
   ]
  },
  {
   "cell_type": "code",
   "execution_count": 16,
   "metadata": {},
   "outputs": [
    {
     "name": "stdout",
     "output_type": "stream",
     "text": [
      "[1.0, 0.6, 0.3, 0.5, 0]\n"
     ]
    }
   ],
   "source": [
    "Union = []\n",
    "for i in range(len(B1)):\n",
    "    Union.append(max(B1[i],B2[i]))\n",
    "print(Union)"
   ]
  },
  {
   "cell_type": "code",
   "execution_count": 17,
   "metadata": {},
   "outputs": [
    {
     "name": "stdout",
     "output_type": "stream",
     "text": [
      "[1.0, 0.15, 0.2, 0.1, 0]\n"
     ]
    }
   ],
   "source": [
    "Intersection = []\n",
    "for i in range(len(B1)):\n",
    "    Intersection.append(min(B1[i],B2[i]))\n",
    "print(Intersection)"
   ]
  },
  {
   "cell_type": "code",
   "execution_count": 18,
   "metadata": {},
   "outputs": [
    {
     "name": "stdout",
     "output_type": "stream",
     "text": [
      "[0.0, 0.85, 0.7, 0.5, 1]\n"
     ]
    }
   ],
   "source": [
    "Compliment1 = []\n",
    "for i in range(len(B1)):\n",
    "    Compliment1.append(1-B1[i])\n",
    "print(Compliment1)"
   ]
  },
  {
   "cell_type": "code",
   "execution_count": 19,
   "metadata": {},
   "outputs": [
    {
     "name": "stdout",
     "output_type": "stream",
     "text": [
      "[0, 0.4, 0.8, 0.9, 1]\n"
     ]
    }
   ],
   "source": [
    "Compliment2 = []\n",
    "for i in range(len(B1)):\n",
    "    Compliment2.append(1-B2[i])\n",
    "print(Compliment2)"
   ]
  },
  {
   "cell_type": "code",
   "execution_count": 20,
   "metadata": {},
   "outputs": [
    {
     "name": "stdout",
     "output_type": "stream",
     "text": [
      "[0, 0.15, 0.3, 0.5, 0]\n"
     ]
    }
   ],
   "source": [
    "Difference1 = []\n",
    "for i in range(len(B1)):\n",
    "    Difference1.append(min(B1[i],Compliment2[i]))\n",
    "print(Difference1)"
   ]
  },
  {
   "cell_type": "code",
   "execution_count": 15,
   "metadata": {},
   "outputs": [
    {
     "name": "stdout",
     "output_type": "stream",
     "text": [
      "[0.0, 0.6, 0.2, 0.1, 0]\n"
     ]
    }
   ],
   "source": [
    "Difference2 = []\n",
    "for i in range(len(B1)):\n",
    "    Difference2.append(min(B2[i],Compliment1[i]))\n",
    "print(Difference2)"
   ]
  },
  {
   "cell_type": "code",
   "execution_count": 25,
   "metadata": {},
   "outputs": [
    {
     "name": "stdout",
     "output_type": "stream",
     "text": [
      "\n",
      "1.0   0.6   0.2   0.1   0   \n",
      "0.15   0.15   0.15   0.1   0   \n",
      "0.3   0.3   0.2   0.1   0   \n",
      "0.5   0.5   0.2   0.1   0   \n",
      "0   0   0   0   0   "
     ]
    }
   ],
   "source": [
    "for i in range(len(B1)):\n",
    "    print()\n",
    "    for j in range(len(B2)):\n",
    "        print(min(B1[i],B2[j]), end = \"   \")"
   ]
  },
  {
   "cell_type": "code",
   "execution_count": 52,
   "metadata": {},
   "outputs": [
    {
     "name": "stdout",
     "output_type": "stream",
     "text": [
      "[1.0, 0.6, 0.2, 0.1, 0]\n",
      "[0.15, 0.15, 0.15, 0.1, 0]\n",
      "[0.3, 0.3, 0.2, 0.1, 0]\n",
      "[0.5, 0.5, 0.2, 0.1, 0]\n",
      "[0, 0, 0, 0, 0]\n"
     ]
    }
   ],
   "source": [
    "rows = len(B1)\n",
    "cols = len(B2)\n",
    "CP = []\n",
    "for i in range(rows):\n",
    "    z = []\n",
    "    CP.append(z)\n",
    "for k in range(rows):\n",
    "    for l in range(cols):\n",
    "        CP[k].append(min(B1[k],B2[l]))\n",
    "for rows in CP:\n",
    "    print(rows)"
   ]
  },
  {
   "cell_type": "code",
   "execution_count": null,
   "metadata": {},
   "outputs": [],
   "source": []
  }
 ],
 "metadata": {
  "kernelspec": {
   "display_name": "Python 3",
   "language": "python",
   "name": "python3"
  },
  "language_info": {
   "codemirror_mode": {
    "name": "ipython",
    "version": 3
   },
   "file_extension": ".py",
   "mimetype": "text/x-python",
   "name": "python",
   "nbconvert_exporter": "python",
   "pygments_lexer": "ipython3",
   "version": "3.7.3"
  }
 },
 "nbformat": 4,
 "nbformat_minor": 4
}
